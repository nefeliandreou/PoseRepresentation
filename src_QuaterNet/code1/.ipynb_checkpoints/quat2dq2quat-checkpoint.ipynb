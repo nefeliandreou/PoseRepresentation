{
 "cells": [
  {
   "cell_type": "code",
   "execution_count": 1,
   "metadata": {},
   "outputs": [],
   "source": [
    "import numpy as np\n",
    "import os\n",
    "import quaternion\n",
    "\n",
    "Quaternion=quaternion.quaternion\n",
    "import torch\n",
    "import torch.nn as nn\n",
    "\n",
    "from DualQuaternion2 import DualQuaternion"
   ]
  },
  {
   "cell_type": "code",
   "execution_count": 2,
   "metadata": {},
   "outputs": [],
   "source": [
    "def localquats2currentdq(lq,offsets,parh):\n",
    "    \"\"\"takes in local quaternion, offsets, and parents to produce hierarchy-aware dual quaternions\n",
    "    \n",
    "    inputs\n",
    "    ------\n",
    "    lq: array of local quaternions, size:#frames x (number of joints used*4)\n",
    "    offsets: array, size: #joints used x 3 \n",
    "    parh: parents list , for us size = 31 (I think for MotioNet - the joints that the network predicts)\n",
    "    \n",
    "    \n",
    "    outputs\n",
    "    -------\n",
    "    allcq: current dual quaternions for each joint, size: #frames x (#joints used *8)\n",
    "    \"\"\"\n",
    "    allcq=[]\n",
    "    joints_num=31\n",
    "    for ff in range(lq.shape[0]):\n",
    "        cq = {}\n",
    "        for i in range(31):\n",
    "            if i==0:\n",
    "                cq[i] = DualQuaternion.from_quat_pose_array(list(lq[ff,i*4:i*4+4]) + [0,0,0]).normalized().dq_array()\n",
    "            else:\n",
    "                cq[i] = (DualQuaternion.from_dq_array((cq[parh[i]]))*DualQuaternion.from_quat_pose_array(list(lq[ff,i*4:i*4+4])+offsets[i])).normalized().dq_array()\n",
    "        temp=[]\n",
    "        for i in cq.items():\n",
    "            temp.append(i[1][0])\n",
    "            temp.append(i[1][1])\n",
    "            temp.append(i[1][2])\n",
    "            temp.append(i[1][3])\n",
    "            temp.append(i[1][4])\n",
    "            temp.append(i[1][5])\n",
    "            temp.append(i[1][6])\n",
    "            temp.append(i[1][7])\n",
    "        allcq.append(temp)\n",
    "    allcq = np.array(allcq)\n",
    "    return allcq\n",
    "\n",
    "def currentdq2localquats(cq,parh):\n",
    "    \"\"\"takes in current dual quaternions, hierarchy and parents to produce local quaternions\n",
    "    \n",
    "    inputs\n",
    "    ------\n",
    "    cq: current dual quaternions for each joint, size: #frames x (#joints used *8)\n",
    "    parhh: parents list, for us size = 31 (I think for MotioNet - the joints that the network predicts)\n",
    "    parh: parents list (same size as h)\n",
    "    \n",
    "    \n",
    "    outputs\n",
    "    -------\n",
    "    local quaternions, size #frames x (#predicted joints * 4)- used to create BVH \n",
    "    \"\"\"\n",
    "    alllq = []\n",
    "    joints_num=31\n",
    "    for ff in range(cq.shape[0]):\n",
    "        llq = {}\n",
    "\n",
    "        for i in range(joints_num):\n",
    "            if i==0:\n",
    "                llq[i] = list(quaternion.as_float_array(DualQuaternion.from_dq_array(cq[ff,i*8:i*8+8]).q_r))\n",
    "\n",
    "            else:\n",
    "                llq[i] = list(quaternion.as_float_array((DualQuaternion.from_dq_array(cq[ff,parh[i]*8:parh[i]*8+8]).q_r.inverse())*\\\n",
    "                          (DualQuaternion.from_dq_array(cq[ff,i*8:i*8+8]).q_r)))\n",
    "        temp=[]\n",
    "        for i in llq.items():\n",
    "\n",
    "            temp.append(i[1][0])\n",
    "            temp.append(i[1][1])\n",
    "            temp.append(i[1][2])\n",
    "            temp.append(i[1][3])\n",
    "\n",
    "        alllq.append(temp)\n",
    "    alllq = np.array(alllq)\n",
    "    return alllq\n"
   ]
  },
  {
   "cell_type": "markdown",
   "metadata": {},
   "source": [
    "# LOSSES"
   ]
  },
  {
   "cell_type": "code",
   "execution_count": 3,
   "metadata": {},
   "outputs": [],
   "source": [
    "# 1. MSE LOSS ON DIRECTLY APPLIED ON THE OUTPUT\n",
    "@staticmethod\n",
    "def calculate_mse_loss(out_seq, groundtruth_seq):\n",
    "    loss_function = nn.MSELoss()\n",
    "    loss = loss_function(out_seq, groundtruth_seq)\n",
    "    return loss"
   ]
  },
  {
   "cell_type": "code",
   "execution_count": 4,
   "metadata": {},
   "outputs": [],
   "source": [
    "#converts sequences of quaternions to euler\n",
    "def qeuler(q, order, epsilon=0):\n",
    "    \"\"\"\n",
    "    Convert quaternion(s) q to Euler angles.\n",
    "    Expects a tensor of shape (*, 4), where * denotes any number of dimensions.\n",
    "    Returns a tensor of shape (*, 3).\n",
    "    \"\"\"\n",
    "    assert q.shape[-1] == 4\n",
    "\n",
    "    original_shape = list(q.shape)\n",
    "    original_shape[-1] = 3\n",
    "    q = q.view(-1, 4)\n",
    "\n",
    "    q0 = q[:, 0]\n",
    "    q1 = q[:, 1]\n",
    "    q2 = q[:, 2]\n",
    "    q3 = q[:, 3]\n",
    "\n",
    "    if order == 'xyz':\n",
    "        x = torch.atan2(2 * (q0 * q1 - q2 * q3), 1 - 2 * (q1 * q1 + q2 * q2))\n",
    "        y = torch.asin(torch.clamp(2 * (q1 * q3 + q0 * q2), -1 + epsilon, 1 - epsilon))\n",
    "        z = torch.atan2(2 * (q0 * q3 - q1 * q2), 1 - 2 * (q2 * q2 + q3 * q3))\n",
    "    elif order == 'yzx':\n",
    "        x = torch.atan2(2 * (q0 * q1 - q2 * q3), 1 - 2 * (q1 * q1 + q3 * q3))\n",
    "        y = torch.atan2(2 * (q0 * q2 - q1 * q3), 1 - 2 * (q2 * q2 + q3 * q3))\n",
    "        z = torch.asin(torch.clamp(2 * (q1 * q2 + q0 * q3), -1 + epsilon, 1 - epsilon))\n",
    "    elif order == 'zxy':\n",
    "        x = torch.asin(torch.clamp(2 * (q0 * q1 + q2 * q3), -1 + epsilon, 1 - epsilon))\n",
    "        y = torch.atan2(2 * (q0 * q2 - q1 * q3), 1 - 2 * (q1 * q1 + q2 * q2))\n",
    "        z = torch.atan2(2 * (q0 * q3 - q1 * q2), 1 - 2 * (q1 * q1 + q3 * q3))\n",
    "    elif order == 'xzy':\n",
    "        x = torch.atan2(2 * (q0 * q1 + q2 * q3), 1 - 2 * (q1 * q1 + q3 * q3))\n",
    "        y = torch.atan2(2 * (q0 * q2 + q1 * q3), 1 - 2 * (q2 * q2 + q3 * q3))\n",
    "        z = torch.asin(torch.clamp(2 * (q0 * q3 - q1 * q2), -1 + epsilon, 1 - epsilon))\n",
    "    elif order == 'yxz':\n",
    "        x = torch.asin(torch.clamp(2 * (q0 * q1 - q2 * q3), -1 + epsilon, 1 - epsilon))\n",
    "        y = torch.atan2(2 * (q1 * q3 + q0 * q2), 1 - 2 * (q1 * q1 + q2 * q2))\n",
    "        z = torch.atan2(2 * (q1 * q2 + q0 * q3), 1 - 2 * (q1 * q1 + q3 * q3))\n",
    "    elif order == 'zyx':\n",
    "        x = torch.atan2(2 * (q0 * q1 + q2 * q3), 1 - 2 * (q1 * q1 + q2 * q2))\n",
    "        y = torch.asin(torch.clamp(2 * (q0 * q2 - q1 * q3), -1 + epsilon, 1 - epsilon))\n",
    "        z = torch.atan2(2 * (q0 * q3 + q1 * q2), 1 - 2 * (q2 * q2 + q3 * q3))\n",
    "    else:\n",
    "        raise\n",
    "\n",
    "    return torch.stack((x, y, z), dim=1).view(original_shape)\n",
    "\n",
    "def qeuler_np(q, order, epsilon=0, use_gpu=False):\n",
    "    if use_gpu:\n",
    "        q = torch.from_numpy(q).cuda()\n",
    "        return qeuler(q, order, epsilon).cpu().numpy()\n",
    "    else:\n",
    "        q = torch.from_numpy(q).contiguous()\n",
    "        return qeuler(q, order, epsilon).numpy()\n",
    "    \n",
    "# 2. Rotational loss\n",
    "    #a. directly applied on the current quaternion\n",
    "def qrl_curr(out_seq, groundtruth_seq,batch_sz=32,joints_num=31,order='zyx'):#groundtruth_seq 32,25100(251*100)\n",
    "    \"\"\"calculates quaternion rotational loss\n",
    "\n",
    "    inputs\n",
    "    -------\n",
    "    out_seq: generated frames (if not in the format #frames x (#joints x 8) need to convert to that)\n",
    "    groundtruth_seq: groundtruth frames (if not in the format #frames x (#joints x 8) need to convert to that)\n",
    "    batch_sz: int, batch size\n",
    "    joints_num: int, #predicted joints\n",
    "    order: BVH order (zyx for CMU)\n",
    "    \n",
    "    outputs\n",
    "    -------\"\"\"\n",
    "\n",
    "    rotloss=0\n",
    "    \n",
    "    \n",
    "    ##This implementation assumes that the network outputs batch_size x (#joints*4)\n",
    "    \n",
    "    frames_out = out_seq.reshape(batch_sz,joints_num*2,4)[:,::2]\n",
    "    frames_gt = groundtruth_seq.reshape(batch_sz,joints_num*2,4)[:,::2]\n",
    "    \n",
    "    ff_gt = qeuler_np(frames_gt.reshape(batch_sz,joints_num,4),order)\n",
    "    ff_out = qeuler_np(frames_out.reshape(batch_sz,joints_num,4),order)\n",
    "\n",
    "    angle_distance = torch.remainder(torch.from_numpy(ff_out) - torch.from_numpy(ff_gt) + np.pi, 2 * np.pi) - np.pi\n",
    "    rotloss += torch.mean(torch.abs(angle_distance)).item()\n",
    "    return rotloss\n",
    "\n",
    "\n",
    "\n",
    "    #b. applied on local quaternions\n",
    "def qrl(out_seq, groundtruth_seq,batch_sz=32,joints_num=31, parh=None,order='zyx'):#groundtruth_seq 32,25100(251*100)\n",
    "    \"\"\"calculates quaternion rotational loss\n",
    "\n",
    "    inputs\n",
    "    -------\n",
    "    out_seq: generated frames (if not in the format #frames x (#joints x 8) need to convert to that)\n",
    "    groundtruth_seq: groundtruth frames (if not in the format #frames x (#joints x 8) need to convert to that)\n",
    "    batch_sz: int, batch size\n",
    "    joints_num: int, #predicted joints\n",
    "    parh:list, parent hierarchy in order that joints appear (size: joints_num)\n",
    "    order: BVH order (zyx for CMU)\n",
    "    \n",
    "    outputs\n",
    "    -------\n",
    "    scalar, loss\"\"\"\n",
    "\n",
    "    rotloss=0\n",
    "    \n",
    "    \n",
    "    ##This implementation assumes that the network outputs batch_size x (#joints*4)\n",
    " \n",
    "    frames_out = out_seq.reshape(batch_sz,joints_num*2,4)[:,::2].reshape(batch_sz,joints_num,4)\n",
    "    frames_gt = groundtruth_seq.reshape(batch_sz,joints_num*2,4)[:,::2].reshape(batch_sz,joints_num,4)\n",
    "    \n",
    "    k = []\n",
    "    for f_gt,f_out in zip(frames_gt,frames_out):\n",
    "\n",
    "        rot_par_out = [f_out[0]] + [f_out[idx] for idx in parh[1:]]\n",
    "        rot_par_gt = [f_gt[0]] + [f_gt[idx] for idx in parh[1:]]\n",
    "\n",
    "        local_rot_out = [quaternion.as_float_array(Quaternion(*f_out[0]))] + [quaternion.as_float_array(Quaternion(*rot_par_out[i]).inverse()*  Quaternion(*f_out[i])) for i in\n",
    "                        range(1,joints_num) ]\n",
    "        local_rot_gt= [quaternion.as_float_array(Quaternion(*f_out[0]))] +[quaternion.as_float_array(Quaternion(*rot_par_gt[i]).inverse() * Quaternion(*f_gt[i])) if i!=0 else quaternion.as_float_array(Quaternion(*f_out[i])) for i in\n",
    "                        range(1,joints_num)]\n",
    "     \n",
    "        ff_gt = qeuler_np(np.array(local_rot_gt),order) #convert quat to euler\n",
    "        ff_out = qeuler_np(np.array(local_rot_out),order) #convert quat to euler\n",
    "        \n",
    "        # L1 loss on angle distance with 2pi wrap-around\n",
    "        angle_distance = torch.remainder(torch.from_numpy(ff_out) - torch.from_numpy(ff_gt) + np.pi, 2 * np.pi) - np.pi\n",
    "        rotloss += torch.mean(torch.abs(angle_distance)).item()\n",
    "        k.append(local_rot_out)\n",
    "    return rotloss/batch_sz,k"
   ]
  },
  {
   "cell_type": "code",
   "execution_count": 5,
   "metadata": {},
   "outputs": [],
   "source": [
    "#Positional and Bone\n",
    "import torch.nn as nn\n",
    "def dl(out_seq, groundtruth_seq,batch_sz=32,joints_num=31,parh=None,bl=True):\n",
    "    \"\"\"\n",
    "    calculates positional loss\n",
    "    \n",
    "    inputs\n",
    "    --------\n",
    "    out_seq: generated from network, has size batch x (#joints *8)\n",
    "    groundtruth_seq: groundtruth values, has size batch x (#joints *8)\n",
    "    batch_sz: int, batch size\n",
    "    joints_num: int, # joints to predict\n",
    "    parh:list, parent hierarchy in order that joints appear (size: joints_num)\n",
    "    bl: boolean, include bone constrain or not (recommended:True)\n",
    "    \n",
    "    outputs\n",
    "    --------\n",
    "    scalar, positional loss\n",
    "    \"\"\"\n",
    "    batchloss_bl = 0\n",
    "    batchloss = 0\n",
    "    \n",
    "    groundtruth_seq = groundtruth_seq.reshape(batch_sz,joints_num,8)\n",
    "    out_seq =  out_seq.reshape(batch_sz,joints_num,8)\n",
    "    \n",
    "    for f_gt, f_out in zip(groundtruth_seq, out_seq):\n",
    "        posloss=0\n",
    "        boneloss=0\n",
    "        fout = f_out\n",
    "        fgt  = f_gt\n",
    "        t_out = [DualQuaternion.from_dq_array(i).normalized().translation() for i in fout]\n",
    "        t_gt = [DualQuaternion.from_dq_array(i).normalized().translation() for i in fgt]\n",
    "\n",
    "        loss_function = nn.MSELoss()\n",
    "        posloss = posloss + loss_function(torch.Tensor(t_out),torch.Tensor(t_gt))\n",
    "\n",
    "        if bl:\n",
    "            t_par_out = [t_out[0]] + [t_out[idx] for idx in parh[1:]]\n",
    "            t_par_gt = [t_out[0]] + [t_gt[idx] for idx in parh[1:]]\n",
    "\n",
    "            bones_out = [np.linalg.norm(i) for i in np.array(t_par_out) - np.array(t_out)]\n",
    "            bones_gt = [np.linalg.norm(i) for i in np.array(t_par_gt) - np.array(t_gt)]\n",
    "            boneloss = boneloss + loss_function(torch.Tensor(bones_out), torch.Tensor(bones_gt))\n",
    "#             assert np.allclose(bones_out,[np.linalg.norm(i) for i in offsets]) #for testing purposes\n",
    "#             assert np.allclose(bones_gt,[np.linalg.norm(i) for i in offsets])  #for testing purposes\n",
    "            batchloss_bl+=boneloss.item()\n",
    "\n",
    "        batchloss+=posloss.item()\n",
    "\n",
    "    loss = batchloss/batch_sz\n",
    "    loss_bl = batchloss_bl/batch_sz\n",
    "    return loss,loss_bl"
   ]
  },
  {
   "cell_type": "markdown",
   "metadata": {},
   "source": [
    "# DEMONSTRATION"
   ]
  },
  {
   "cell_type": "markdown",
   "metadata": {},
   "source": [
    "## CONVERSION"
   ]
  },
  {
   "cell_type": "code",
   "execution_count": 6,
   "metadata": {},
   "outputs": [],
   "source": [
    "from loadbvh2 import loadbvh2\n",
    "\n",
    "bvh_file = \"/DATA/Projects/2020/lstm_pro/code1/86_12.bvh\"\n",
    "order=\"zyx\"\n",
    "k = loadbvh2(bvh_file,order)\n",
    "local_quats = k.skeleton2q()[:,3:]\n",
    "lq = local_quats"
   ]
  },
  {
   "cell_type": "code",
   "execution_count": 7,
   "metadata": {},
   "outputs": [],
   "source": [
    "d = {}\n",
    "for idx, n in enumerate(k.non_end_bones):\n",
    "    d[n] = idx\n",
    "par = []\n",
    "h = []\n",
    "for i in k.non_end_bones:\n",
    "    if i == 'Hips':\n",
    "        par.append(None)\n",
    "\n",
    "    else:\n",
    "        par.append(d[k.skeleton[i]['parent']])\n",
    "    h.append(d[i])\n",
    "\n",
    "parh = par\n",
    "offsets = [k.skeleton[i][\"offsets\"] for i in k.non_end_bones]"
   ]
  },
  {
   "cell_type": "code",
   "execution_count": 8,
   "metadata": {},
   "outputs": [],
   "source": [
    "allcq = localquats2currentdq(lq,offsets,parh)\n",
    "alllq = currentdq2localquats(allcq,  parh)"
   ]
  },
  {
   "cell_type": "markdown",
   "metadata": {},
   "source": [
    "## LOSSES"
   ]
  },
  {
   "cell_type": "markdown",
   "metadata": {},
   "source": [
    "### rotational local (test to check it works properly)"
   ]
  },
  {
   "cell_type": "code",
   "execution_count": 9,
   "metadata": {},
   "outputs": [
    {
     "data": {
      "text/plain": [
       "True"
      ]
     },
     "execution_count": 9,
     "metadata": {},
     "output_type": "execute_result"
    }
   ],
   "source": [
    "t = qrl(allcq,allcq,batch_sz = allcq.shape[0],parh =parh)[1]\n",
    "np.allclose(np.array(t).reshape(allcq.shape[0],31*4),alllq)"
   ]
  },
  {
   "cell_type": "markdown",
   "metadata": {},
   "source": [
    "### rotational current (test to check it works properly)"
   ]
  },
  {
   "cell_type": "code",
   "execution_count": 13,
   "metadata": {},
   "outputs": [
    {
     "data": {
      "text/plain": [
       "0.7388322455545385"
      ]
     },
     "execution_count": 13,
     "metadata": {},
     "output_type": "execute_result"
    }
   ],
   "source": [
    "qrl_curr(allcq,allcq,batch_sz = allcq.shape[0])"
   ]
  },
  {
   "cell_type": "markdown",
   "metadata": {},
   "source": [
    "### positional with bone"
   ]
  },
  {
   "cell_type": "code",
   "execution_count": 11,
   "metadata": {},
   "outputs": [
    {
     "data": {
      "text/plain": [
       "(0.0, 0.0)"
      ]
     },
     "execution_count": 11,
     "metadata": {},
     "output_type": "execute_result"
    }
   ],
   "source": [
    "dl(out_seq = allcq,groundtruth_seq = allcq,batch_sz=allcq.shape[0],parh=parh)"
   ]
  },
  {
   "cell_type": "markdown",
   "metadata": {},
   "source": [
    "###  positional without bone"
   ]
  },
  {
   "cell_type": "code",
   "execution_count": 12,
   "metadata": {},
   "outputs": [
    {
     "data": {
      "text/plain": [
       "(0.0, 0.0)"
      ]
     },
     "execution_count": 12,
     "metadata": {},
     "output_type": "execute_result"
    }
   ],
   "source": [
    "dl(out_seq = allcq,groundtruth_seq = allcq,batch_sz=allcq.shape[0],parh=parh,bl=False)"
   ]
  },
  {
   "cell_type": "code",
   "execution_count": null,
   "metadata": {},
   "outputs": [],
   "source": []
  }
 ],
 "metadata": {
  "kernelspec": {
   "display_name": "Python 3",
   "language": "python",
   "name": "python3"
  },
  "language_info": {
   "codemirror_mode": {
    "name": "ipython",
    "version": 3
   },
   "file_extension": ".py",
   "mimetype": "text/x-python",
   "name": "python",
   "nbconvert_exporter": "python",
   "pygments_lexer": "ipython3",
   "version": "3.6.9"
  }
 },
 "nbformat": 4,
 "nbformat_minor": 4
}
